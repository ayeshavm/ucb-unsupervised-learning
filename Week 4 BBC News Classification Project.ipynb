{
 "cells": [
  {
   "cell_type": "markdown",
   "metadata": {},
   "source": [
    "## Week 4 Peer Review Project:  Kaggle Competition: BBC News Classification "
   ]
  },
  {
   "cell_type": "markdown",
   "metadata": {},
   "source": [
    "##### Part 1:\n",
    "\n",
    "For this week’s mini-project, you will participate in this Kaggle competition:  \n",
    "\n",
    "Kaggle Competition: BBC News Classification \n",
    " [80 pts]\n",
    "\n",
    "This Kaggle competition is about categorizing news articles. You will use matrix factorization to predict the category and submit your notebook for peer evaluation. \n",
    "\n",
    "The part has 80 points. The instructions summarize the criteria you will use to guide your submission and review others’ submissions. \n",
    "\n",
    "You will submit one deliverable for Part 1: \n",
    "\n",
    "A Jupyter notebook with exploratory data analysis (EDA) procedure, model building and training, and comparison with supervised learning. \n",
    "\n",
    "Suppose your work becomes so large that it doesn’t fit into one notebook (or you think it will be less readable by having one large notebook). In that case, you can make several notebooks or scripts in a GitHub repository (as deliverable 3) and submit a report-style notebook or pdf instead.\n",
    "\n",
    "##### Part 2:\n",
    "\n",
    "Limitation(s) of sklearn’s non-negative matrix factorization library. [20 pts]\n",
    "\n",
    "1. Load the movie ratings data (as in the HW3-recommender-system) and use matrix factorization technique(s) and predict the missing ratings from the test data. Measure the RMSE. You should use sklearn library. [10 pts]\n",
    "\n",
    "\n",
    "2. Discuss the results and why sklearn's non-negative matrix facorization library did not work well compared to simple baseline or similarity-based methods we’ve done in Module 3. Can you suggest a way(s) to fix it? [10 pts]\n",
    "\n",
    "\n",
    "references:\n",
    "\n",
    "https://medium.com/logicai/non-negative-matrix-factorization-for-recommendation-systems-985ca8d5c16c\n",
    "\n",
    "https://pub.towardsai.net/topic-modeling-with-nmf-for-user-reviews-classification-65913d0b44fe\n",
    "\n",
    "https://chat.openai.com/share/532e586a-1268-4bae-aaf1-3182426380d2"
   ]
  },
  {
   "cell_type": "markdown",
   "metadata": {},
   "source": [
    "#### Import Libraries"
   ]
  },
  {
   "cell_type": "code",
   "execution_count": 1,
   "metadata": {},
   "outputs": [],
   "source": [
    "import pandas as pd\n",
    "import matplotlib.pyplot as plt\n",
    "import seaborn as sns\n",
    "import glob\n",
    "import os\n",
    "\n",
    "from nltk.stem.porter import PorterStemmer\n",
    "from numba import jit\n",
    "from nltk.corpus import stopwords\n",
    "import numpy as np\n",
    "\n",
    "import nltk\n",
    "import re\n",
    "import string\n"
   ]
  },
  {
   "cell_type": "code",
   "execution_count": 2,
   "metadata": {},
   "outputs": [],
   "source": [
    "from sklearn.decomposition import NMF\n",
    "from sklearn.model_selection import train_test_split, GridSearchCV\n",
    "from sklearn.feature_extraction.text import TfidfVectorizer\n",
    "from sklearn.decomposition import NMF\n",
    "from sklearn.linear_model import LogisticRegression\n",
    "from sklearn.pipeline import Pipeline\n",
    "from sklearn.base import BaseEstimator, ClassifierMixin\n",
    "from sklearn.metrics import classification_report, accuracy_score\n",
    "from sklearn.preprocessing import StandardScaler\n",
    "from sklearn.svm import SVC\n",
    "\n",
    "import numpy as np\n",
    "from sklearn.metrics import mean_squared_error, make_scorer\n",
    "\n",
    "from sklearn.decomposition import NMF"
   ]
  },
  {
   "cell_type": "markdown",
   "metadata": {},
   "source": [
    "### Part 1. \n",
    "\n",
    "#### Instructions:  Step 1\n",
    "Extracting word features and show Exploratory Data Analysis (EDA) — Inspect, Visualize and Clean the Data (15 pts)\n",
    "\n",
    "Show a few visualizations like histograms. Describe any data cleaning procedures. Based on your EDA, what is your plan of analysis? \n",
    "\n",
    "Please feel free to look at online resources on processing raw texts to feature vectors. Many methods process texts to matrix form (word embedding), including TF-IDF, GloVe, Word2Vec, etc. Pick a method and process the raw texts to word embedding. Briefly explain the method(s) and how they work in your own words. Also, do exploratory data analysis such as word statistics and/or visualization.\n",
    "\n",
    "As we did not learn natural language processing (NLP) specific techniques such as word embeddings in the lectures, we recommend reading discussions and example codes from others in the Kaggle and/or doing some research online to make sure you understand. You can refer to any resource as needed, but make sure you “demonstrate” your understanding- please include explaining in your own words, discussions, and your interpretation. Also importantly, please have a reference list at the end of the report. \n",
    "\n",
    "\n",
    "##### Read Files and perform initial visual inspection of data"
   ]
  },
  {
   "cell_type": "code",
   "execution_count": 3,
   "metadata": {},
   "outputs": [],
   "source": [
    "path = '/Users/ayeshamendoza/UCB/5510 - Unsupervised Learning/data'\n",
    "\n",
    "files = glob.glob(os.path.join(path, \"*.csv\"))"
   ]
  },
  {
   "cell_type": "code",
   "execution_count": 4,
   "metadata": {},
   "outputs": [
    {
     "data": {
      "text/plain": [
       "['/Users/ayeshamendoza/UCB/5510 - Unsupervised Learning/data/BBC News Train.csv',\n",
       " '/Users/ayeshamendoza/UCB/5510 - Unsupervised Learning/data/BBC News Test.csv',\n",
       " '/Users/ayeshamendoza/UCB/5510 - Unsupervised Learning/data/BBC News Sample Solution.csv']"
      ]
     },
     "execution_count": 4,
     "metadata": {},
     "output_type": "execute_result"
    }
   ],
   "source": [
    "files"
   ]
  },
  {
   "cell_type": "code",
   "execution_count": 5,
   "metadata": {},
   "outputs": [],
   "source": [
    "sample_df = pd.read_csv(files[2])"
   ]
  },
  {
   "cell_type": "code",
   "execution_count": 6,
   "metadata": {},
   "outputs": [],
   "source": [
    "train_df = pd.read_csv(files[0])"
   ]
  },
  {
   "cell_type": "markdown",
   "metadata": {},
   "source": [
    "Make sure all our rows are labeled.  It looks like all our training data are set to one of the 5 categories\n"
   ]
  },
  {
   "cell_type": "code",
   "execution_count": 7,
   "metadata": {},
   "outputs": [
    {
     "data": {
      "text/plain": [
       "ArticleId    0\n",
       "Text         0\n",
       "Category     0\n",
       "dtype: int64"
      ]
     },
     "execution_count": 7,
     "metadata": {},
     "output_type": "execute_result"
    }
   ],
   "source": [
    "# Check for nulls in the dataframe\n",
    "train_df.isnull().sum()"
   ]
  },
  {
   "cell_type": "code",
   "execution_count": 8,
   "metadata": {},
   "outputs": [
    {
     "data": {
      "text/html": [
       "<div>\n",
       "<style scoped>\n",
       "    .dataframe tbody tr th:only-of-type {\n",
       "        vertical-align: middle;\n",
       "    }\n",
       "\n",
       "    .dataframe tbody tr th {\n",
       "        vertical-align: top;\n",
       "    }\n",
       "\n",
       "    .dataframe thead th {\n",
       "        text-align: right;\n",
       "    }\n",
       "</style>\n",
       "<table border=\"1\" class=\"dataframe\">\n",
       "  <thead>\n",
       "    <tr style=\"text-align: right;\">\n",
       "      <th></th>\n",
       "      <th>ArticleId</th>\n",
       "      <th>Text</th>\n",
       "      <th>Category</th>\n",
       "    </tr>\n",
       "  </thead>\n",
       "  <tbody>\n",
       "    <tr>\n",
       "      <th>0</th>\n",
       "      <td>1833</td>\n",
       "      <td>worldcom ex-boss launches defence lawyers defe...</td>\n",
       "      <td>business</td>\n",
       "    </tr>\n",
       "    <tr>\n",
       "      <th>1</th>\n",
       "      <td>154</td>\n",
       "      <td>german business confidence slides german busin...</td>\n",
       "      <td>business</td>\n",
       "    </tr>\n",
       "    <tr>\n",
       "      <th>2</th>\n",
       "      <td>1101</td>\n",
       "      <td>bbc poll indicates economic gloom citizens in ...</td>\n",
       "      <td>business</td>\n",
       "    </tr>\n",
       "    <tr>\n",
       "      <th>3</th>\n",
       "      <td>1976</td>\n",
       "      <td>lifestyle  governs mobile choice  faster  bett...</td>\n",
       "      <td>tech</td>\n",
       "    </tr>\n",
       "    <tr>\n",
       "      <th>4</th>\n",
       "      <td>917</td>\n",
       "      <td>enron bosses in $168m payout eighteen former e...</td>\n",
       "      <td>business</td>\n",
       "    </tr>\n",
       "  </tbody>\n",
       "</table>\n",
       "</div>"
      ],
      "text/plain": [
       "   ArticleId                                               Text  Category\n",
       "0       1833  worldcom ex-boss launches defence lawyers defe...  business\n",
       "1        154  german business confidence slides german busin...  business\n",
       "2       1101  bbc poll indicates economic gloom citizens in ...  business\n",
       "3       1976  lifestyle  governs mobile choice  faster  bett...      tech\n",
       "4        917  enron bosses in $168m payout eighteen former e...  business"
      ]
     },
     "execution_count": 8,
     "metadata": {},
     "output_type": "execute_result"
    }
   ],
   "source": [
    "train_df.head()"
   ]
  },
  {
   "cell_type": "code",
   "execution_count": 9,
   "metadata": {},
   "outputs": [
    {
     "data": {
      "text/html": [
       "<div>\n",
       "<style scoped>\n",
       "    .dataframe tbody tr th:only-of-type {\n",
       "        vertical-align: middle;\n",
       "    }\n",
       "\n",
       "    .dataframe tbody tr th {\n",
       "        vertical-align: top;\n",
       "    }\n",
       "\n",
       "    .dataframe thead th {\n",
       "        text-align: right;\n",
       "    }\n",
       "</style>\n",
       "<table border=\"1\" class=\"dataframe\">\n",
       "  <thead>\n",
       "    <tr style=\"text-align: right;\">\n",
       "      <th></th>\n",
       "      <th>ArticleId</th>\n",
       "      <th>Text</th>\n",
       "    </tr>\n",
       "  </thead>\n",
       "  <tbody>\n",
       "    <tr>\n",
       "      <th>0</th>\n",
       "      <td>1018</td>\n",
       "      <td>qpr keeper day heads for preston queens park r...</td>\n",
       "    </tr>\n",
       "    <tr>\n",
       "      <th>1</th>\n",
       "      <td>1319</td>\n",
       "      <td>software watching while you work software that...</td>\n",
       "    </tr>\n",
       "    <tr>\n",
       "      <th>2</th>\n",
       "      <td>1138</td>\n",
       "      <td>d arcy injury adds to ireland woe gordon d arc...</td>\n",
       "    </tr>\n",
       "    <tr>\n",
       "      <th>3</th>\n",
       "      <td>459</td>\n",
       "      <td>india s reliance family feud heats up the ongo...</td>\n",
       "    </tr>\n",
       "    <tr>\n",
       "      <th>4</th>\n",
       "      <td>1020</td>\n",
       "      <td>boro suffer morrison injury blow middlesbrough...</td>\n",
       "    </tr>\n",
       "  </tbody>\n",
       "</table>\n",
       "</div>"
      ],
      "text/plain": [
       "   ArticleId                                               Text\n",
       "0       1018  qpr keeper day heads for preston queens park r...\n",
       "1       1319  software watching while you work software that...\n",
       "2       1138  d arcy injury adds to ireland woe gordon d arc...\n",
       "3        459  india s reliance family feud heats up the ongo...\n",
       "4       1020  boro suffer morrison injury blow middlesbrough..."
      ]
     },
     "execution_count": 9,
     "metadata": {},
     "output_type": "execute_result"
    }
   ],
   "source": [
    "test_df = pd.read_csv(files[1])\n",
    "test_df.head()"
   ]
  },
  {
   "cell_type": "markdown",
   "metadata": {},
   "source": [
    "### Data Validation\n",
    "\n",
    "##### The following validations were done:\n",
    "- vaidate that article is assigned to one or more category to determine if it is a multi-class classification or a multi-label classification.\n",
    "\n",
    "- Inspect the number of rows for each category to determine if we have imbalanced data, so we can handle if needed.\n",
    "- Inspect for missing or null values, to make sure every article in Training dataset has a label, and that the `Text` column is not nulls."
   ]
  },
  {
   "cell_type": "markdown",
   "metadata": {},
   "source": [
    "Check if an article is assigned to more than one category\n",
    "- It looks good, all articles are just assigned to one category"
   ]
  },
  {
   "cell_type": "code",
   "execution_count": 10,
   "metadata": {},
   "outputs": [
    {
     "data": {
      "text/plain": [
       "Int64Index([], dtype='int64')"
      ]
     },
     "execution_count": 10,
     "metadata": {},
     "output_type": "execute_result"
    }
   ],
   "source": [
    "article_counts = train_df['ArticleId'].value_counts()\n",
    "\n",
    "# Check for multiple rows for an ArticleID\n",
    "duplicate_article_ids = article_counts[article_counts > 1].index\n",
    "duplicate_article_ids"
   ]
  },
  {
   "cell_type": "code",
   "execution_count": 11,
   "metadata": {},
   "outputs": [
    {
     "data": {
      "text/plain": [
       "ArticleId    0\n",
       "Text         0\n",
       "Category     0\n",
       "dtype: int64"
      ]
     },
     "execution_count": 11,
     "metadata": {},
     "output_type": "execute_result"
    }
   ],
   "source": [
    "train_df.isnull().sum()"
   ]
  },
  {
   "cell_type": "markdown",
   "metadata": {},
   "source": [
    "##### Inspect how many rows we have for each category, and determine if we have imbalanced data.\n",
    "\n",
    "It looks like we have pretty good distribution of samples for each category."
   ]
  },
  {
   "cell_type": "code",
   "execution_count": 12,
   "metadata": {},
   "outputs": [
    {
     "name": "stdout",
     "output_type": "stream",
     "text": [
      "Series([], Name: ArticleId, dtype: int64)\n",
      "Empty DataFrame\n",
      "Columns: [ArticleId, Text, Category]\n",
      "Index: []\n"
     ]
    }
   ],
   "source": [
    "article_counts = train_df['ArticleId'].value_counts()\n",
    "\n",
    "# Filter to find ArticleIds with more than one occurrence\n",
    "more_than_one = article_counts[article_counts > 1]\n",
    "\n",
    "# Show the ArticleIds that have more than one occurrence\n",
    "print(more_than_one)\n",
    "\n",
    "repeated_articles = train_df[train_df['ArticleId'].isin(more_than_one.index)]\n",
    "print(repeated_articles)"
   ]
  },
  {
   "cell_type": "markdown",
   "metadata": {},
   "source": [
    "View Distribution of data to verify if we have an imbalanced dataset.\n",
    "\n",
    "- The different categories seems to be well distributed, no class has a significantly low number of samples"
   ]
  },
  {
   "cell_type": "code",
   "execution_count": 13,
   "metadata": {},
   "outputs": [
    {
     "data": {
      "text/plain": [
       "<AxesSubplot: xlabel='Category', ylabel='count'>"
      ]
     },
     "execution_count": 13,
     "metadata": {},
     "output_type": "execute_result"
    },
    {
     "data": {
      "image/png": "[encoded data removed]",
      "text/plain": [
       "<Figure size 432x288 with 1 Axes>"
      ]
     },
     "metadata": {
      "needs_background": "light"
     },
     "output_type": "display_data"
    }
   ],
   "source": [
    "sns.countplot(x='Category', data=train_df, color='dodgerblue')"
   ]
  },
  {
   "cell_type": "markdown",
   "metadata": {},
   "source": [
    "### Text data Pre-processing\n",
    "\n",
    "The following pre-processing steps were done with the text data:\n",
    "- Tokenization: breaks the down the text into tokens\n",
    "- Stemming, Lemmatization: removes redundancy in words by finding the root form by removing affixes from inflected word forms\n",
    "- Remove punctuation, numbers and stopwords: stopwords are the most common words in the language but are not important in deriving the meaning, these are words such as 'a', 'but', they', etc.  Stop words can be customizable depending on the industry you are working on, i.e. if you are working for a bank, the word 'bank' might appear frequently in the documents and might not be relevant in analyzing documents."
   ]
  },
  {
   "cell_type": "code",
   "execution_count": 14,
   "metadata": {},
   "outputs": [
    {
     "name": "stdout",
     "output_type": "stream",
     "text": [
      "['worldcom', 'ex-boss', 'launches', 'defence', 'lawyers', 'defending', 'former', 'worldcom', 'chief', 'bernie', 'ebbers', 'against', 'a', 'battery', 'of', 'fraud', 'charges', 'have', 'called', 'a', 'company', 'whistleblower', 'as', 'their', 'first', 'witness', '.', 'cynthia', 'cooper', 'worldcom', 's', 'ex-head', 'of', 'internal', 'accounting', 'alerted', 'directors', 'to', 'irregular', 'accounting', 'practices', 'at', 'the', 'us', 'telecoms', 'giant', 'in', '2002.', 'her', 'warnings', 'led', 'to', 'the', 'collapse', 'of', 'the', 'firm', 'following', 'the', 'discovery', 'of', 'an', '$', '11bn', '(', '£5.7bn', ')', 'accounting', 'fraud', '.', 'mr', 'ebbers', 'has', 'pleaded', 'not', 'guilty', 'to', 'charges', 'of', 'fraud', 'and', 'conspiracy', '.', 'prosecution', 'lawyers', 'have', 'argued', 'that', 'mr', 'ebbers', 'orchestrated', 'a', 'series', 'of', 'accounting', 'tricks', 'at', 'worldcom', 'ordering', 'employees', 'to', 'hide', 'expenses', 'and', 'inflate', 'revenues', 'to', 'meet', 'wall', 'street', 'earnings', 'estimates', '.', 'but', 'ms', 'cooper', 'who', 'now', 'runs', 'her', 'own', 'consulting', 'business', 'told', 'a', 'jury', 'in', 'new', 'york', 'on', 'wednesday', 'that', 'external', 'auditors', 'arthur', 'andersen', 'had', 'approved', 'worldcom', 's', 'accounting', 'in', 'early', '2001', 'and', '2002.', 'she', 'said', 'andersen', 'had', 'given', 'a', 'green', 'light', 'to', 'the', 'procedures', 'and', 'practices', 'used', 'by', 'worldcom', '.', 'mr', 'ebber', 's', 'lawyers', 'have', 'said', 'he', 'was', 'unaware', 'of', 'the', 'fraud', 'arguing', 'that', 'auditors', 'did', 'not', 'alert', 'him', 'to', 'any', 'problems', '.', 'ms', 'cooper', 'also', 'said', 'that', 'during', 'shareholder', 'meetings', 'mr', 'ebbers', 'often', 'passed', 'over', 'technical', 'questions', 'to', 'the', 'company', 's', 'finance', 'chief', 'giving', 'only', 'brief', 'answers', 'himself', '.', 'the', 'prosecution', 's', 'star', 'witness', 'former', 'worldcom', 'financial', 'chief', 'scott', 'sullivan', 'has', 'said', 'that', 'mr', 'ebbers', 'ordered', 'accounting', 'adjustments', 'at', 'the', 'firm', 'telling', 'him', 'to', 'hit', 'our', 'books', '.', 'however', 'ms', 'cooper', 'said', 'mr', 'sullivan', 'had', 'not', 'mentioned', 'anything', 'uncomfortable', 'about', 'worldcom', 's', 'accounting', 'during', 'a', '2001', 'audit', 'committee', 'meeting', '.', 'mr', 'ebbers', 'could', 'face', 'a', 'jail', 'sentence', 'of', '85', 'years', 'if', 'convicted', 'of', 'all', 'the', 'charges', 'he', 'is', 'facing', '.', 'worldcom', 'emerged', 'from', 'bankruptcy', 'protection', 'in', '2004', 'and', 'is', 'now', 'known', 'as', 'mci', '.', 'last', 'week', 'mci', 'agreed', 'to', 'a', 'buyout', 'by', 'verizon', 'communications', 'in', 'a', 'deal', 'valued', 'at', '$', '6.75bn', '.'] \n",
      "\n"
     ]
    }
   ],
   "source": [
    "# Testing tokenization on sample Text\n",
    "\n",
    "# tokenize and print tokens from the sample Text\n",
    "sample_tokens = nltk.word_tokenize(train_df.iloc[0]['Text'])\n",
    "print(sample_tokens,'\\n')"
   ]
  },
  {
   "cell_type": "markdown",
   "metadata": {},
   "source": [
    "#### Set-up Stemmer, translator"
   ]
  },
  {
   "cell_type": "code",
   "execution_count": 15,
   "metadata": {},
   "outputs": [],
   "source": [
    "translator = str.maketrans(string.punctuation, ' '*32)\n",
    "porterStemmer = PorterStemmer()\n",
    "\n",
    "# get list of lemmatized/stemmed tokens\n",
    "def stemTokenList(tokens, stemmer):\n",
    "    return [stemmer.stem(token) for token in tokens]\n",
    "\n",
    "# get out stemmed tokens from text\n",
    "def noPunctWordTokenizerStemmer(text, stemmer=porterStemmer):\n",
    "    # basic tokens to feed to our stem tokenizer\n",
    "    tokens = nltk.word_tokenize(text.translate(translator))\n",
    "    # stem\n",
    "    stemmed_tokens = stemTokenList(tokens, stemmer)\n",
    "    return stemmed_tokens\n",
    "\n",
    "def cleanText(text, stemmer=porterStemmer):\n",
    "    # basic tokens to feed to our stem tokenizer\n",
    "    stopwords_english = stopwords.words('english')\n",
    "    \n",
    "    tokens = nltk.word_tokenize(text.translate(translator))\n",
    "    \n",
    "    filtered_tokens = [token for token in tokens if not token.isdigit()]\n",
    "    filtered_tokens = [token for token in filtered_tokens if token not in stopwords_english]\n",
    "    \n",
    "    # stem\n",
    "    stemmed_tokens = stemTokenList(filtered_tokens, stemmer)\n",
    "    text = ' '.join(stemmed_tokens)\n",
    "    return text\n"
   ]
  },
  {
   "cell_type": "code",
   "execution_count": 16,
   "metadata": {},
   "outputs": [],
   "source": [
    "# Save cleaned tokens\n",
    "train_df['cleaned_tokens'] = train_df['Text'].apply(lambda x: cleanText(x))"
   ]
  },
  {
   "cell_type": "code",
   "execution_count": 17,
   "metadata": {},
   "outputs": [],
   "source": [
    "word_count_dict = {}\n",
    "\n",
    "for ix, row in train_df.iterrows():\n",
    "    for word in row['cleaned_tokens'].split(\" \"):\n",
    "        if word in word_count_dict:\n",
    "            word_count_dict[word] += 1\n",
    "        else:\n",
    "            word_count_dict[word] = 1"
   ]
  },
  {
   "cell_type": "code",
   "execution_count": 18,
   "metadata": {},
   "outputs": [],
   "source": [
    "sorted_dict = dict(sorted(word_count_dict.items(), key=lambda item: item[1], reverse=True))"
   ]
  },
  {
   "cell_type": "code",
   "execution_count": 19,
   "metadata": {
    "scrolled": true
   },
   "outputs": [
    {
     "data": {
      "text/plain": [
       "<AxesSubplot: title={'center': 'Top 20 most frequent words used'}>"
      ]
     },
     "execution_count": 19,
     "metadata": {},
     "output_type": "execute_result"
    },
    {
     "data": {
      "image/png": "[encoded data removed]",
      "text/plain": [
       "<Figure size 864x432 with 1 Axes>"
      ]
     },
     "metadata": {
      "needs_background": "light"
     },
     "output_type": "display_data"
    }
   ],
   "source": [
    "plt.figure(figsize=(12,6))\n",
    "plt.title(\"Top 20 most frequent words used\")\n",
    "sns.barplot(x=list(sorted_dict.keys())[:20], y=list(sorted_dict.values())[:20])"
   ]
  },
  {
   "cell_type": "markdown",
   "metadata": {},
   "source": [
    "### Feature extraction:\n",
    "\n",
    "For feature processing, I used TF-IDF for this iteration.\n",
    "\n",
    "`TF-IDF` is a technique that assesses the importance of words relative to a collection of documents\n",
    "\n",
    "`TF`: is the frequency of any term in the document\n",
    "\n",
    "`IDF`: accounts for the ratio of the documents that include that specific 'term'"
   ]
  },
  {
   "cell_type": "code",
   "execution_count": 20,
   "metadata": {},
   "outputs": [],
   "source": [
    "X_train, X_test, y_train, y_test = train_test_split(train_df['cleaned_tokens'],\n",
    "                                                    train_df['Category'], test_size=0.2, random_state=42)"
   ]
  },
  {
   "cell_type": "code",
   "execution_count": 21,
   "metadata": {},
   "outputs": [
    {
     "name": "stdout",
     "output_type": "stream",
     "text": [
      "TF-IDF matrix of 1192 articles with 15285 feature tokens\n"
     ]
    }
   ],
   "source": [
    "from sklearn.feature_extraction.text import TfidfVectorizer, TfidfTransformer\n",
    "\n",
    "# create the transformer\n",
    "\n",
    "tfidf = TfidfVectorizer(use_idf=True, smooth_idf=True, sublinear_tf=True)\n",
    "\n",
    "# features_tfidf = tfidf.fit_transform(features_counts) # For transformer\n",
    "features_tfidf = tfidf.fit_transform(X_train.values)\n",
    "\n",
    "print(\"TF-IDF matrix of %d articles with %d feature tokens\" % features_tfidf.shape)"
   ]
  },
  {
   "cell_type": "code",
   "execution_count": 22,
   "metadata": {},
   "outputs": [],
   "source": [
    "# Run NMF using tf-idf features\n",
    "beta_loss_params = {'frobenius':'cd', 'kullback-leibler':'mu'}\n",
    "l1_ratio_params = [0.0, 1.0]\n",
    "\n",
    "# Initialize nmf_score dict to keep track of train scores for nmf\n",
    "nmf_score = {}\n",
    "# num_categories were set to 5 since there are 5 categories to classify\n",
    "num_categories = 5\n",
    "random_state = 42\n",
    "\n",
    "\n",
    "for loss_param, solver in beta_loss_params.items():\n",
    "    nmfs = []\n",
    "    for l1_param in l1_ratio_params:\n",
    "        param_dict = {}\n",
    "        nmf = NMF(n_components=num_categories,\n",
    "                  random_state=random_state,\n",
    "                  solver=solver,\n",
    "                  beta_loss=loss_param,\n",
    "                  l1_ratio = l1_param)\n",
    "        nmf.fit(features_tfidf)\n",
    "        param_dict['l1'] = l1_param\n",
    "        param_dict['nmf_fit'] = nmf\n",
    "        nmfs.append(param_dict)\n",
    "        \n",
    "    nmf_score[loss_param] = nmfs"
   ]
  },
  {
   "cell_type": "code",
   "execution_count": 23,
   "metadata": {},
   "outputs": [
    {
     "data": {
      "text/plain": [
       "{'frobenius': [{'l1': 0.0, 'nmf_fit': NMF(n_components=5, random_state=42)},\n",
       "  {'l1': 1.0, 'nmf_fit': NMF(l1_ratio=1.0, n_components=5, random_state=42)}],\n",
       " 'kullback-leibler': [{'l1': 0.0,\n",
       "   'nmf_fit': NMF(beta_loss='kullback-leibler', n_components=5, random_state=42, solver='mu')},\n",
       "  {'l1': 1.0,\n",
       "   'nmf_fit': NMF(beta_loss='kullback-leibler', l1_ratio=1.0, n_components=5, random_state=42,\n",
       "       solver='mu')}]}"
      ]
     },
     "execution_count": 23,
     "metadata": {},
     "output_type": "execute_result"
    }
   ],
   "source": [
    "nmf_score"
   ]
  },
  {
   "cell_type": "markdown",
   "metadata": {},
   "source": [
    "### Display top `n` words for the different categories identified"
   ]
  },
  {
   "cell_type": "code",
   "execution_count": 25,
   "metadata": {},
   "outputs": [
    {
     "name": "stdout",
     "output_type": "stream",
     "text": [
      "\n",
      " frobenius , 0.0 \n",
      "Topic 0 : elect mr labour blair parti tori govern minist would prime said say leader plan tax\n",
      "Topic 1 : game play win england match player team cup first final side champion back injuri coach\n",
      "Topic 2 : use peopl mobil phone technolog user servic comput digit softwar net music said onlin video\n",
      "Topic 3 : film award star best actor oscar nomin actress director comedi music aviat includ ceremoni year\n",
      "Topic 4 : growth market economi said bank compani firm year econom us share rate sale price rise\n",
      "\n",
      " frobenius , 1.0 \n",
      "Topic 0 : elect mr labour blair parti tori govern minist would prime said say leader plan tax\n",
      "Topic 1 : game play win england match player team cup first final side champion back injuri coach\n",
      "Topic 2 : use peopl mobil phone technolog user servic comput digit softwar net music said onlin video\n",
      "Topic 3 : film award star best actor oscar nomin actress director comedi music aviat includ ceremoni year\n",
      "Topic 4 : growth market economi said bank compani firm year econom us share rate sale price rise\n",
      "\n",
      " kullback-leibler , 0.0 \n",
      "Topic 0 : said mr would say could govern told next time elect need plan minist new peopl\n",
      "Topic 1 : play game win player match first final england champion year team cup season injuri coach\n",
      "Topic 2 : use technolog mobil phone user comput peopl softwar servic consum digit net internet onlin firm\n",
      "Topic 3 : film star award music best actor show oscar nomin singer band includ tv album song\n",
      "Topic 4 : compani market firm bank growth share year sale economi us dollar profit econom said price\n",
      "\n",
      " kullback-leibler , 1.0 \n",
      "Topic 0 : said mr would say could govern told next time elect need plan minist new peopl\n",
      "Topic 1 : play game win player match first final england champion year team cup season injuri coach\n",
      "Topic 2 : use technolog mobil phone user comput peopl softwar servic consum digit net internet onlin firm\n",
      "Topic 3 : film star award music best actor show oscar nomin singer band includ tv album song\n",
      "Topic 4 : compani market firm bank growth share year sale economi us dollar profit econom said price\n"
     ]
    }
   ],
   "source": [
    "def display_top_words(feature_names, nmf, n_top_words=15):\n",
    "    topic_dict = {}\n",
    "    for i, topic_vec in enumerate(nmf.components_):\n",
    "        topic_words = []\n",
    "        for fid in topic_vec.argsort()[-1:-n_top_words-1:-1]:\n",
    "            topic_words.append(feature_names[fid])\n",
    "\n",
    "            \n",
    "        topic_dict[i] = topic_words\n",
    "        \n",
    "    return topic_dict\n",
    "\n",
    "for loss_param, nmfs in nmf_score.items():\n",
    "    for nmf_fitted in nmfs:\n",
    "        topics = display_top_words(tfidf.get_feature_names(), nmf_fitted['nmf_fit'], n_top_words=15)\n",
    "        print(f\"\\n {loss_param} , {nmf_fitted['l1']} \")\n",
    "        for key, topic_words in topics.items():\n",
    "            print(f\"Topic {key} : {' '.join(topic_words)}\")"
   ]
  },
  {
   "cell_type": "markdown",
   "metadata": {},
   "source": [
    "We can map labels based on the following topics found by NMF"
   ]
  },
  {
   "cell_type": "code",
   "execution_count": 26,
   "metadata": {},
   "outputs": [],
   "source": [
    "label_to_num_map = {'tech':2, 'sport':1, 'politics':0, 'business':4, 'entertainment':3}"
   ]
  },
  {
   "cell_type": "code",
   "execution_count": 27,
   "metadata": {},
   "outputs": [],
   "source": [
    "train_preds = pd.DataFrame({'tokens': X_train.values, 'actual_labels': y_train.values})\n",
    "train_preds['actual_num_labels'] = train_preds['actual_labels'].map(label_to_num_map)"
   ]
  },
  {
   "cell_type": "markdown",
   "metadata": {},
   "source": [
    "### Evaluate and Tune NMF models\n",
    "\n",
    "- different beta_loss_params and l1_ratio were used, but as we will see in the results below that the `l1_ratio` did not contribute to any change in the scores, but for the `beta_loss` parameter, the accuracy is better with `beta_loss = 'frobenius'`"
   ]
  },
  {
   "cell_type": "markdown",
   "metadata": {},
   "source": [
    "### Find Training accuracy for NMF (parameters: beta_loss_params = 'frobenius', l1_ratio = 1.0)"
   ]
  },
  {
   "cell_type": "code",
   "execution_count": 28,
   "metadata": {},
   "outputs": [
    {
     "name": "stdout",
     "output_type": "stream",
     "text": [
      "NMF Training Accuracy : params = frobenius, 0.0 : 0.9404362416107382\n",
      "NMF Training Accuracy : params = frobenius, 1.0 : 0.9404362416107382\n",
      "NMF Training Accuracy : params = kullback-leibler, 0.0 : 0.9219798657718121\n",
      "NMF Training Accuracy : params = kullback-leibler, 1.0 : 0.9219798657718121\n"
     ]
    }
   ],
   "source": [
    "# Get NMF prediction for topics\n",
    "\n",
    "for loss_param, nmfs in nmf_score.items():\n",
    "    for nmf_fitted in nmfs:\n",
    "        nmf = nmf_fitted['nmf_fit']\n",
    "        train_pred = nmf.transform(features_tfidf)\n",
    "        train_preds['pred_label'] = np.argmax(train_pred, axis=1)\n",
    "\n",
    "        accuracy = accuracy_score(train_preds['actual_num_labels'], train_preds['pred_label'])\n",
    "        print(f\"NMF Training Accuracy : params = {loss_param}, {nmf_fitted['l1']} : {accuracy}\")"
   ]
  },
  {
   "cell_type": "markdown",
   "metadata": {},
   "source": [
    "## Process Test dataset"
   ]
  },
  {
   "cell_type": "code",
   "execution_count": 29,
   "metadata": {},
   "outputs": [],
   "source": [
    "test_preds = pd.DataFrame({'tokens': X_test.values, 'actual_labels': y_test.values})\n",
    "test_preds['actual_num_labels'] = test_preds['actual_labels'].map(label_to_num_map)\n",
    "\n",
    "test_tfidf = tfidf.transform(X_test.values)\n"
   ]
  },
  {
   "cell_type": "markdown",
   "metadata": {},
   "source": [
    "Evaluate different NMF's using Test data"
   ]
  },
  {
   "cell_type": "code",
   "execution_count": 30,
   "metadata": {},
   "outputs": [
    {
     "name": "stdout",
     "output_type": "stream",
     "text": [
      "NMF Test Accuracy : params = frobenius, 0.0 : 0.959731543624161\n",
      "NMF Test Accuracy : params = frobenius, 1.0 : 0.959731543624161\n",
      "NMF Test Accuracy : params = kullback-leibler, 0.0 : 0.9261744966442953\n",
      "NMF Test Accuracy : params = kullback-leibler, 1.0 : 0.9261744966442953\n"
     ]
    }
   ],
   "source": [
    "for loss_param, nmfs in nmf_score.items():\n",
    "    for nmf_fitted in nmfs:\n",
    "        \n",
    "        test_preds = pd.DataFrame({'tokens': X_test.values, 'actual_labels': y_test.values})\n",
    "        test_preds['actual_num_labels'] = test_preds['actual_labels'].map(label_to_num_map)\n",
    "        \n",
    "        nmf = nmf_fitted['nmf_fit']\n",
    "        test_pred = nmf.transform(test_tfidf)\n",
    "        test_preds['pred_label'] = np.argmax(test_pred, axis=1)\n",
    "\n",
    "        accuracy = accuracy_score(test_preds['actual_num_labels'], test_preds['pred_label'])\n",
    "        print(f\"NMF Test Accuracy : params = {loss_param}, {nmf_fitted['l1']} : {accuracy}\")"
   ]
  },
  {
   "cell_type": "markdown",
   "metadata": {},
   "source": [
    "### Display Accuracy and Classification Report for the best model"
   ]
  },
  {
   "cell_type": "code",
   "execution_count": 31,
   "metadata": {
    "scrolled": true
   },
   "outputs": [
    {
     "name": "stdout",
     "output_type": "stream",
     "text": [
      "NMF Test set accuracy: 0.96\n",
      "NMF Classification report:\n",
      "               precision    recall  f1-score   support\n",
      "\n",
      "           0       0.96      0.93      0.95        56\n",
      "           1       0.97      1.00      0.98        63\n",
      "           2       0.92      0.97      0.94        58\n",
      "           3       1.00      0.91      0.95        46\n",
      "           4       0.96      0.97      0.97        75\n",
      "\n",
      "    accuracy                           0.96       298\n",
      "   macro avg       0.96      0.96      0.96       298\n",
      "weighted avg       0.96      0.96      0.96       298\n",
      "\n"
     ]
    }
   ],
   "source": [
    "test_preds = pd.DataFrame({'tokens': X_test.values, 'actual_labels': y_test.values})\n",
    "test_preds['actual_num_labels'] = test_preds['actual_labels'].map(label_to_num_map)\n",
    "\n",
    "nmf = nmf_score['frobenius'][0]['nmf_fit']\n",
    "test_pred = nmf.transform(test_tfidf)\n",
    "test_preds['pred_label'] = np.argmax(test_pred, axis=1)\n",
    "print(\"NMF Test set accuracy: {:.2f}\".format(accuracy_score(test_preds['actual_num_labels'] , test_preds['pred_label'])))\n",
    "print(\"NMF Classification report:\\n\", classification_report(test_preds['actual_num_labels'] , test_preds['pred_label']))\n"
   ]
  },
  {
   "cell_type": "markdown",
   "metadata": {},
   "source": [
    "#### Step 3. Compare with supervised learning [30 pts]\n",
    "\n",
    "Use the following steps to guide your work:\n",
    "\n",
    "1) Pick and train a supervised learning method(s) and compare the results (train and test performance)\n",
    "2) Discuss comparison with the unsupervised approach. You may try changing the train data size (e.g., Include only 10%, 20%, 50% of labels, and observe train/test performance changes). Which methods are data-efficient (require a smaller amount of data to achieve similar results)? What about overfitting?\n",
    "\n"
   ]
  },
  {
   "cell_type": "code",
   "execution_count": 32,
   "metadata": {
    "scrolled": true
   },
   "outputs": [
    {
     "name": "stdout",
     "output_type": "stream",
     "text": [
      "Fitting 5 folds for each of 12 candidates, totalling 60 fits\n"
     ]
    },
    {
     "name": "stderr",
     "output_type": "stream",
     "text": [
      "[Parallel(n_jobs=-1)]: Using backend LokyBackend with 4 concurrent workers.\n",
      "[Parallel(n_jobs=-1)]: Done  33 tasks      | elapsed:   15.9s\n",
      "[Parallel(n_jobs=-1)]: Done  60 out of  60 | elapsed:   24.8s finished\n"
     ]
    },
    {
     "name": "stdout",
     "output_type": "stream",
     "text": [
      "LR Best parameters found:  {'clf__C': 10, 'tfidf__max_df': 1.0, 'tfidf__min_df': 1}\n",
      "LR Best cross-validation score: 0.97\n",
      "LR Test set accuracy: 0.97\n",
      "LR Classification report:\n",
      "                precision    recall  f1-score   support\n",
      "\n",
      "     business       0.96      0.99      0.97        75\n",
      "entertainment       0.96      1.00      0.98        46\n",
      "     politics       0.96      0.93      0.95        56\n",
      "        sport       0.98      1.00      0.99        63\n",
      "         tech       1.00      0.95      0.97        58\n",
      "\n",
      "     accuracy                           0.97       298\n",
      "    macro avg       0.97      0.97      0.97       298\n",
      " weighted avg       0.97      0.97      0.97       298\n",
      "\n"
     ]
    }
   ],
   "source": [
    "pipeline_lr = Pipeline([\n",
    "    ('tfidf', TfidfVectorizer(stop_words='english')),\n",
    "    ('clf', LogisticRegression(max_iter=200, random_state=42))\n",
    "])\n",
    "\n",
    "param_grid_lr = {\n",
    "    'tfidf__max_df': [0.75, 1.0],\n",
    "    'tfidf__min_df': [1, 2],\n",
    "    'clf__C': [0.1, 1, 10]\n",
    "}\n",
    "\n",
    "grid_search_lr = GridSearchCV(pipeline_lr, param_grid_lr, cv=5, n_jobs=-1, verbose=2)\n",
    "\n",
    "# Fit the model\n",
    "grid_search_lr.fit(X_train, y_train)\n",
    "\n",
    "# Best parameters and best score for Logistic Regression\n",
    "print(\"LR Best parameters found: \", grid_search_lr.best_params_)\n",
    "print(\"LR Best cross-validation score: {:.2f}\".format(grid_search_lr.best_score_))\n",
    "\n",
    "# Predict on the test set with Logistic Regression\n",
    "y_pred_lr = grid_search_lr.predict(X_test)\n",
    "\n",
    "# Evaluate the Logistic Regression model\n",
    "print(\"LR Test set accuracy: {:.2f}\".format(accuracy_score(y_test, y_pred_lr)))\n",
    "print(\"LR Classification report:\\n\", classification_report(y_test, y_pred_lr))\n"
   ]
  },
  {
   "cell_type": "markdown",
   "metadata": {},
   "source": [
    "### Results Summary:\n",
    "\n",
    "- After running the BBC News Classification dataset using NMF (Unsupervised technique), and using Logistic Regression for Supervised technique, the Supervised ML technique outperformed the NMF by .01.\n",
    "Both models appear to perform well and generalized well with the test data -- no overfitting observed from the results yielded.\n",
    "\n",
    "- NMF does the classification/grouping by uncovering hidden patterns/structure in the data, which appears to be in this case comparable to Logistic Regression which was used for the Supervised ML approach.  Logistic Regression / Supervised ML could provide more accurate results since Supervised ML models are trained to learn from the data. \n",
    "\n",
    "Additional tuning and cross-validation can be done using NMF, but due to time constraints, I am reporting the results generated from this iteration."
   ]
  },
  {
   "cell_type": "code",
   "execution_count": null,
   "metadata": {},
   "outputs": [],
   "source": []
  },
  {
   "cell_type": "code",
   "execution_count": null,
   "metadata": {},
   "outputs": [],
   "source": []
  }
 ],
 "metadata": {
  "kernelspec": {
   "display_name": "Python 3",
   "language": "python",
   "name": "python3"
  },
  "language_info": {
   "codemirror_mode": {
    "name": "ipython",
    "version": 3
   },
   "file_extension": ".py",
   "mimetype": "text/x-python",
   "name": "python",
   "nbconvert_exporter": "python",
   "pygments_lexer": "ipython3",
   "version": "3.8.5"
  }
 },
 "nbformat": 4,
 "nbformat_minor": 4
}

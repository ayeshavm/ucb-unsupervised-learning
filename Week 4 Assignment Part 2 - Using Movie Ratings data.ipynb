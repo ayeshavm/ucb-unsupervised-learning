{
 "cells": [
  {
   "cell_type": "markdown",
   "metadata": {},
   "source": [
    "[<a id=\"top\"></a>\n",
    "\n",
    "### Part 2:  Movie Ratings Data using NMF \n",
    "\n",
    "Complete Part 2. \n",
    "\n",
    "Limitation(s) of sklearn’s non-negative matrix factorization library. [20 pts]\n",
    "\n",
    "1. Load the movie ratings data (as in the HW3-recommender-system) and use matrix factorization technique(s) and predict the missing ratings from the test data. Measure the RMSE. You should use sklearn library. [10 pts]\n",
    "\n",
    "\n",
    "2. Discuss the results and why sklearn's non-negative matrix facorization library did not work well compared to simple baseline or similarity-based methods we’ve done in Module 3. Can you suggest a way(s) to fix it? [10 pts]\n",
    "\n",
    "\n",
    "### >>> [Summary of results here](#summary)"
   ]
  },
  {
   "cell_type": "markdown",
   "metadata": {},
   "source": [
    "#### 1) Load movie ratings data from HW3"
   ]
  },
  {
   "cell_type": "code",
   "execution_count": 1,
   "metadata": {},
   "outputs": [],
   "source": [
    "import numpy as np\n",
    "import pandas as pd\n",
    "from sklearn.model_selection import train_test_split\n",
    "from sklearn.decomposition import NMF\n",
    "from sklearn.metrics import mean_squared_error\n",
    "from math import sqrt\n",
    "\n",
    "import os\n",
    "from collections import namedtuple"
   ]
  },
  {
   "cell_type": "code",
   "execution_count": 2,
   "metadata": {},
   "outputs": [],
   "source": [
    "path = '/Users/ayeshamendoza/UCB/5510 - Unsupervised Learning'\n",
    "MV_users = pd.read_csv(os.path.join(path, 'users.csv'))\n",
    "MV_movies = pd.read_csv(os.path.join(path, 'movies.csv'))\n",
    "train = pd.read_csv(os.path.join(path, 'train.csv'))\n",
    "test = pd.read_csv(os.path.join(path, 'test.csv'))"
   ]
  },
  {
   "cell_type": "code",
   "execution_count": 3,
   "metadata": {},
   "outputs": [],
   "source": [
    "Data = namedtuple('Data', ['users','movies','train','test'])\n",
    "data = Data(MV_users, MV_movies, train, test)"
   ]
  },
  {
   "cell_type": "code",
   "execution_count": 4,
   "metadata": {},
   "outputs": [
    {
     "data": {
      "text/html": [
       "<div>\n",
       "<style scoped>\n",
       "    .dataframe tbody tr th:only-of-type {\n",
       "        vertical-align: middle;\n",
       "    }\n",
       "\n",
       "    .dataframe tbody tr th {\n",
       "        vertical-align: top;\n",
       "    }\n",
       "\n",
       "    .dataframe thead th {\n",
       "        text-align: right;\n",
       "    }\n",
       "</style>\n",
       "<table border=\"1\" class=\"dataframe\">\n",
       "  <thead>\n",
       "    <tr style=\"text-align: right;\">\n",
       "      <th></th>\n",
       "      <th>uID</th>\n",
       "      <th>mID</th>\n",
       "      <th>rating</th>\n",
       "    </tr>\n",
       "  </thead>\n",
       "  <tbody>\n",
       "    <tr>\n",
       "      <th>0</th>\n",
       "      <td>744</td>\n",
       "      <td>1210</td>\n",
       "      <td>5</td>\n",
       "    </tr>\n",
       "    <tr>\n",
       "      <th>1</th>\n",
       "      <td>3040</td>\n",
       "      <td>1584</td>\n",
       "      <td>4</td>\n",
       "    </tr>\n",
       "    <tr>\n",
       "      <th>2</th>\n",
       "      <td>1451</td>\n",
       "      <td>1293</td>\n",
       "      <td>5</td>\n",
       "    </tr>\n",
       "    <tr>\n",
       "      <th>3</th>\n",
       "      <td>5455</td>\n",
       "      <td>3176</td>\n",
       "      <td>2</td>\n",
       "    </tr>\n",
       "    <tr>\n",
       "      <th>4</th>\n",
       "      <td>2507</td>\n",
       "      <td>3074</td>\n",
       "      <td>5</td>\n",
       "    </tr>\n",
       "  </tbody>\n",
       "</table>\n",
       "</div>"
      ],
      "text/plain": [
       "    uID   mID  rating\n",
       "0   744  1210       5\n",
       "1  3040  1584       4\n",
       "2  1451  1293       5\n",
       "3  5455  3176       2\n",
       "4  2507  3074       5"
      ]
     },
     "execution_count": 4,
     "metadata": {},
     "output_type": "execute_result"
    }
   ],
   "source": [
    "data.train.head()"
   ]
  },
  {
   "cell_type": "code",
   "execution_count": 5,
   "metadata": {},
   "outputs": [],
   "source": [
    "# Load data\n",
    "# data = pd.read_csv('movie_ratings.csv')  # Replace with the path to your dataset\n",
    "data_df = data.train.copy()\n",
    "\n",
    "# Create a user-item matrix\n",
    "user_item_matrix = data_df.pivot(index='uID', columns='mID', values='rating')"
   ]
  },
  {
   "cell_type": "markdown",
   "metadata": {},
   "source": [
    "Implement NMF to predict movie ratings for users"
   ]
  },
  {
   "cell_type": "code",
   "execution_count": 6,
   "metadata": {},
   "outputs": [
    {
     "name": "stderr",
     "output_type": "stream",
     "text": [
      "/opt/anaconda3/lib/python3.8/site-packages/sklearn/decomposition/_nmf.py:1076: ConvergenceWarning: Maximum number of iterations 200 reached. Increase it to improve convergence.\n",
      "  warnings.warn(\"Maximum number of iterations %d reached. Increase it to\"\n"
     ]
    },
    {
     "name": "stdout",
     "output_type": "stream",
     "text": [
      "RMSE: 3.1004066862406874\n"
     ]
    }
   ],
   "source": [
    "data_df = data.train.copy()\n",
    "\n",
    "# Create a user-item matrix\n",
    "user_item_matrix = data_df.pivot(index='uID', columns='mID', values='rating')\n",
    "\n",
    "# Impute missing values with 0 for training purposes\n",
    "user_item_matrix_filled = user_item_matrix.fillna(0)\n",
    "\n",
    "# Split data into train and test sets\n",
    "train_data, test_data = train_test_split(data_df, test_size=0.2, random_state=42)\n",
    "\n",
    "# Create training matrix with only training data\n",
    "train_matrix = user_item_matrix.copy()\n",
    "for row in test_data.itertuples():\n",
    "    train_matrix.at[row.uID, row.mID] = np.nan\n",
    "\n",
    "train_matrix = train_matrix.fillna(0)\n",
    "\n",
    "# Matrix Factorization using NMF\n",
    "nmf = NMF(n_components=50, init='random', random_state=42)\n",
    "user_factors = nmf.fit_transform(train_matrix)\n",
    "item_factors = nmf.components_\n",
    "\n",
    "# Predict missing ratings\n",
    "predicted_matrix = np.dot(user_factors, item_factors)\n",
    "\n",
    "# Re-create the full matrix with predicted values\n",
    "predicted_ratings = pd.DataFrame(predicted_matrix, index=user_item_matrix.index, columns=user_item_matrix.columns)\n",
    "\n",
    "# Extract the predicted ratings for the test set\n",
    "test_predictions = []\n",
    "test_actuals = []\n",
    "for row in test_data.itertuples():\n",
    "    predicted_rating = predicted_ratings.at[row.uID, row.mID]\n",
    "    test_predictions.append(predicted_rating)\n",
    "    test_actuals.append(row.rating)\n",
    "\n",
    "# Calculate RMSE\n",
    "rmse = sqrt(mean_squared_error(test_actuals, test_predictions))\n",
    "print(f'RMSE: {rmse}')"
   ]
  },
  {
   "cell_type": "markdown",
   "metadata": {},
   "source": [
    "[<a id=\"summary\"></a>\n",
    "### 2)  Results Summary:\n",
    "\n",
    "It appears that NMF does not perform as well as the content-based and collaborative filtering techniques used in Week 3 for the movie ratings data possibly due to the data sparsity issue.  As we have noticed the movie ratings data is very sparse, and NMF requires a dense matrix in order to effectively decompose a matrix to lower dimension matrices.\n",
    "\n",
    "Techniques such as Collaborative filtering are more straightforward where we directly compare user-item interactions, which could work better and be interpreted easier than the latent features/factors created from NMF.\n",
    "\n",
    "Some ways that we can fix or improve this is would be:\n",
    "- We can impute values for missing ratings this can help create a more dense matrix and address sparsity issue.\n",
    "- More extensive hyperparameter tuning can be done to help improve the performance of NMF\n",
    "- I have read some hybrid approaches can be done, where features generated from NMF can be used for collaborative filtering.\n",
    "\n",
    "[Back to Top](#top)"
   ]
  },
  {
   "cell_type": "code",
   "execution_count": null,
   "metadata": {},
   "outputs": [],
   "source": []
  }
 ],
 "metadata": {
  "kernelspec": {
   "display_name": "Python 3",
   "language": "python",
   "name": "python3"
  },
  "language_info": {
   "codemirror_mode": {
    "name": "ipython",
    "version": 3
   },
   "file_extension": ".py",
   "mimetype": "text/x-python",
   "name": "python",
   "nbconvert_exporter": "python",
   "pygments_lexer": "ipython3",
   "version": "3.8.5"
  }
 },
 "nbformat": 4,
 "nbformat_minor": 4
}
